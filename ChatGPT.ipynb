{
 "cells": [
  {
   "cell_type": "code",
   "execution_count": 106,
   "metadata": {},
   "outputs": [],
   "source": [
    "from datasets import load_dataset\n",
    "\n",
    "import pandas as pd\n",
    "import matplotlib.pyplot as plt\n",
    "\n"
   ]
  },
  {
   "cell_type": "code",
   "execution_count": 9,
   "metadata": {},
   "outputs": [
    {
     "name": "stderr",
     "output_type": "stream",
     "text": [
      "No config specified, defaulting to: emotion/split\n",
      "Found cached dataset emotion (/root/.cache/huggingface/datasets/dair-ai___emotion/split/1.0.0/cca5efe2dfeb58c1d098e0f9eeb200e9927d889b5a03c67097275dfb5fe463bd)\n"
     ]
    },
    {
     "data": {
      "application/vnd.jupyter.widget-view+json": {
       "model_id": "7ec0f63a7d2345829a2a0dfebb2a0402",
       "version_major": 2,
       "version_minor": 0
      },
      "text/plain": [
       "  0%|          | 0/3 [00:00<?, ?it/s]"
      ]
     },
     "metadata": {},
     "output_type": "display_data"
    },
    {
     "name": "stdout",
     "output_type": "stream",
     "text": [
      "                                                text  label\n",
      "0                            i didnt feel humiliated      0\n",
      "1  i can go from feeling so hopeless to so damned...      0\n",
      "2   im grabbing a minute to post i feel greedy wrong      3\n",
      "3  i am ever feeling nostalgic about the fireplac...      2\n",
      "4                               i am feeling grouchy      3\n",
      "                                                text  label\n",
      "0  im feeling rather rotten so im not very ambiti...      0\n",
      "1          im updating my blog because i feel shitty      0\n",
      "2  i never make her separate from me because i do...      0\n",
      "3  i left with my bouquet of red and yellow tulip...      1\n",
      "4    i was feeling a little vain when i did this one      0\n"
     ]
    }
   ],
   "source": [
    "\n",
    "# Load the dataset\n",
    "dataset = load_dataset('dair-ai/emotion')\n",
    "\n",
    "# Convert to pandas dataframe\n",
    "train_data = pd.DataFrame(dataset['train'])\n",
    "val_data = pd.DataFrame(dataset['validation'])\n",
    "test_data = pd.DataFrame(dataset['test'])\n",
    "\n",
    "print(train_data.head())\n",
    "print(test_data.head())"
   ]
  },
  {
   "cell_type": "code",
   "execution_count": 3,
   "metadata": {},
   "outputs": [
    {
     "data": {
      "text/plain": [
       "1    5362\n",
       "0    4666\n",
       "3    2159\n",
       "4    1937\n",
       "2    1304\n",
       "5     572\n",
       "Name: label, dtype: int64"
      ]
     },
     "execution_count": 3,
     "metadata": {},
     "output_type": "execute_result"
    }
   ],
   "source": [
    "train_data['label'].value_counts()"
   ]
  },
  {
   "cell_type": "code",
   "execution_count": 4,
   "metadata": {},
   "outputs": [],
   "source": [
    "train_data = train_data.drop_duplicates(subset='text')\n",
    "train_data = train_data.reset_index(drop=True)"
   ]
  },
  {
   "cell_type": "code",
   "execution_count": 5,
   "metadata": {},
   "outputs": [
    {
     "data": {
      "text/plain": [
       "False"
      ]
     },
     "execution_count": 5,
     "metadata": {},
     "output_type": "execute_result"
    }
   ],
   "source": [
    "train_data.isna().values.any()"
   ]
  },
  {
   "cell_type": "code",
   "execution_count": 6,
   "metadata": {},
   "outputs": [],
   "source": [
    "train_data['len'] = [len(text.split()) for text in train_data['text']]"
   ]
  },
  {
   "cell_type": "code",
   "execution_count": 7,
   "metadata": {},
   "outputs": [
    {
     "data": {
      "image/png": "[encoded data removed]",
      "text/plain": [
       "<Figure size 640x480 with 1 Axes>"
      ]
     },
     "metadata": {},
     "output_type": "display_data"
    }
   ],
   "source": [
    "train_data['len'].hist(bins=20)\n",
    "plt.show()"
   ]
  },
  {
   "cell_type": "markdown",
   "metadata": {},
   "source": [
    "# ChatGPT"
   ]
  },
  {
   "cell_type": "code",
   "execution_count": 20,
   "metadata": {},
   "outputs": [],
   "source": [
    "import openai\n",
    "\n",
    "openai.api_key = 'api key ne pokaju))'\n",
    "\n",
    "\n",
    "def get_gpt_response(text):\n",
    "    response = openai.ChatCompletion.create(\n",
    "      model=\"gpt-3.5-turbo\",\n",
    "      messages=[\n",
    "            {\"role\": \"system\", \"content\": \"You are a helpful assistant that identifies one of sadness, joy, love, anger, fear, and surprise emotions in text. Chose the most suitable emotion from the list [sadness, joy, love, anger, fear, surprise]. Each text represent only one emotion. Give only one word representing text emotion in answer.\"},\n",
    "            {\"role\": \"user\", \"content\": f\"Identify the emotion in the following text: '{text}'\"},\n",
    "        ]\n",
    "    )\n",
    "    result = 'unk'\n",
    "    labels = ['sadness', 'joy', 'love', 'anger', 'fear', 'surprise']\n",
    "    for label in labels:\n",
    "        if label in response['choices'][0]['message']['content'].lower():\n",
    "            result = label\n",
    "            break\n",
    "    return result\n",
    "    \n",
    "\n"
   ]
  },
  {
   "cell_type": "code",
   "execution_count": 98,
   "metadata": {},
   "outputs": [
    {
     "data": {
      "application/vnd.jupyter.widget-view+json": {
       "model_id": "563ddffa667f44a8b6056399f35320fe",
       "version_major": 2,
       "version_minor": 0
      },
      "text/plain": [
       "  0%|          | 0/16000 [00:00<?, ?it/s]"
      ]
     },
     "metadata": {},
     "output_type": "display_data"
    }
   ],
   "source": [
    "import time\n",
    "\n",
    "train_preds = {}\n",
    "max_attempts = 100\n",
    "\n",
    "train_preds_list = []\n",
    "\n",
    "for text in tqdm(train_data['text']):\n",
    "    for attempt in range(max_attempts):\n",
    "        try:\n",
    "            output = get_gpt_response(text)\n",
    "            train_preds[text] = output\n",
    "            train_preds_list.append(output)\n",
    "            break\n",
    "        except:\n",
    "            time.sleep(5)\n",
    "train_data['preds'] = train_preds_list"
   ]
  },
  {
   "cell_type": "code",
   "execution_count": 99,
   "metadata": {},
   "outputs": [
    {
     "data": {
      "application/vnd.jupyter.widget-view+json": {
       "model_id": "4afa74ab07b44c6a960ee454397a8dbe",
       "version_major": 2,
       "version_minor": 0
      },
      "text/plain": [
       "  0%|          | 0/2000 [00:00<?, ?it/s]"
      ]
     },
     "metadata": {},
     "output_type": "display_data"
    },
    {
     "name": "stdout",
     "output_type": "stream",
     "text": [
      "exception\n",
      "exception\n",
      "exception\n",
      "exception\n",
      "exception\n",
      "exception\n",
      "exception\n",
      "exception\n",
      "exception\n",
      "exception\n",
      "exception\n",
      "exception\n",
      "exception\n",
      "exception\n",
      "exception\n",
      "exception\n",
      "exception\n",
      "exception\n",
      "exception\n",
      "exception\n",
      "exception\n",
      "exception\n",
      "exception\n",
      "exception\n",
      "exception\n",
      "exception\n",
      "exception\n",
      "exception\n",
      "exception\n",
      "exception\n",
      "exception\n",
      "exception\n",
      "exception\n",
      "exception\n",
      "exception\n",
      "exception\n",
      "exception\n",
      "exception\n",
      "exception\n",
      "exception\n",
      "exception\n",
      "exception\n",
      "exception\n",
      "exception\n",
      "exception\n",
      "exception\n",
      "exception\n",
      "exception\n",
      "exception\n",
      "exception\n",
      "exception\n",
      "exception\n",
      "exception\n",
      "exception\n",
      "exception\n",
      "exception\n",
      "exception\n",
      "exception\n",
      "exception\n",
      "exception\n",
      "exception\n",
      "exception\n",
      "exception\n",
      "exception\n"
     ]
    }
   ],
   "source": [
    "import time\n",
    "\n",
    "val_preds = {}\n",
    "max_attempts = 100\n",
    "\n",
    "val_preds_list = []\n",
    "\n",
    "for text in tqdm(val_data['text']):\n",
    "    for attempt in range(max_attempts):\n",
    "        try:\n",
    "            output = get_gpt_response(text)\n",
    "            val_preds[text] = output\n",
    "            val_preds_list.append(output)\n",
    "            break\n",
    "        except:\n",
    "            print('exception')\n",
    "            time.sleep(5)\n",
    "val_data['preds'] = val_preds_list"
   ]
  },
  {
   "cell_type": "code",
   "execution_count": 102,
   "metadata": {},
   "outputs": [],
   "source": [
    "names = {'sadness':0,'joy':1,'love':2,'anger':3,'fear':4, 'surprise':5, 'unk':6}\n",
    "preds_label = [names[label] for label in train_data['preds']]\n",
    "train_data['gpt_preds'] = preds_label"
   ]
  },
  {
   "cell_type": "code",
   "execution_count": 103,
   "metadata": {},
   "outputs": [],
   "source": [
    "names = {'sadness':0,'joy':1,'love':2,'anger':3,'fear':4, 'surprise':5, 'unk':6}\n",
    "preds_label = [names[label] for label in val_data['preds']]\n",
    "val_data['gpt_preds'] = preds_label"
   ]
  },
  {
   "cell_type": "code",
   "execution_count": 104,
   "metadata": {},
   "outputs": [],
   "source": [
    "names = {'sadness':0,'joy':1,'love':2,'anger':3,'fear':4, 'surprise':5, 'unk':6}\n",
    "preds_label = [names[label] for label in test_data['preds']]\n",
    "test_data['gpt_preds'] = preds_label"
   ]
  },
  {
   "cell_type": "code",
   "execution_count": 105,
   "metadata": {},
   "outputs": [],
   "source": [
    "train_data.to_csv('train_emotions_gpt.csv', index=False)\n",
    "val_data.to_csv('val_emotions_gpt.csv', index=False)\n",
    "test_data.to_csv('test_emotions_gpt.csv', index=False)"
   ]
  },
  {
   "cell_type": "code",
   "execution_count": 59,
   "metadata": {},
   "outputs": [
    {
     "data": {
      "text/plain": [
       "0.4843521937536555"
      ]
     },
     "execution_count": 59,
     "metadata": {},
     "output_type": "execute_result"
    }
   ],
   "source": [
    "f1_score(clean_test_data['label'], preds_label, average='macro')"
   ]
  },
  {
   "cell_type": "code",
   "execution_count": 66,
   "metadata": {},
   "outputs": [
    {
     "data": {
      "text/html": [
       "<div>\n",
       "<style scoped>\n",
       "    .dataframe tbody tr th:only-of-type {\n",
       "        vertical-align: middle;\n",
       "    }\n",
       "\n",
       "    .dataframe tbody tr th {\n",
       "        vertical-align: top;\n",
       "    }\n",
       "\n",
       "    .dataframe thead th {\n",
       "        text-align: right;\n",
       "    }\n",
       "</style>\n",
       "<table border=\"1\" class=\"dataframe\">\n",
       "  <thead>\n",
       "    <tr style=\"text-align: right;\">\n",
       "      <th></th>\n",
       "      <th>text</th>\n",
       "      <th>label</th>\n",
       "      <th>preds</th>\n",
       "      <th>norm_preds</th>\n",
       "    </tr>\n",
       "  </thead>\n",
       "  <tbody>\n",
       "    <tr>\n",
       "      <th>0</th>\n",
       "      <td>im feeling rather rotten so im not very ambiti...</td>\n",
       "      <td>0</td>\n",
       "      <td>sadness</td>\n",
       "      <td>0</td>\n",
       "    </tr>\n",
       "    <tr>\n",
       "      <th>1</th>\n",
       "      <td>im updating my blog because i feel shitty</td>\n",
       "      <td>0</td>\n",
       "      <td>sadness</td>\n",
       "      <td>0</td>\n",
       "    </tr>\n",
       "    <tr>\n",
       "      <th>2</th>\n",
       "      <td>i never make her separate from me because i do...</td>\n",
       "      <td>0</td>\n",
       "      <td>love</td>\n",
       "      <td>2</td>\n",
       "    </tr>\n",
       "    <tr>\n",
       "      <th>3</th>\n",
       "      <td>i left with my bouquet of red and yellow tulip...</td>\n",
       "      <td>1</td>\n",
       "      <td>joy</td>\n",
       "      <td>1</td>\n",
       "    </tr>\n",
       "    <tr>\n",
       "      <th>4</th>\n",
       "      <td>i was feeling a little vain when i did this one</td>\n",
       "      <td>0</td>\n",
       "      <td>joy</td>\n",
       "      <td>1</td>\n",
       "    </tr>\n",
       "    <tr>\n",
       "      <th>...</th>\n",
       "      <td>...</td>\n",
       "      <td>...</td>\n",
       "      <td>...</td>\n",
       "      <td>...</td>\n",
       "    </tr>\n",
       "    <tr>\n",
       "      <th>1995</th>\n",
       "      <td>i just keep feeling like someone is being unki...</td>\n",
       "      <td>3</td>\n",
       "      <td>anger</td>\n",
       "      <td>3</td>\n",
       "    </tr>\n",
       "    <tr>\n",
       "      <th>1996</th>\n",
       "      <td>im feeling a little cranky negative after this...</td>\n",
       "      <td>3</td>\n",
       "      <td>sadness</td>\n",
       "      <td>0</td>\n",
       "    </tr>\n",
       "    <tr>\n",
       "      <th>1997</th>\n",
       "      <td>i feel that i am useful to my people and that ...</td>\n",
       "      <td>1</td>\n",
       "      <td>joy</td>\n",
       "      <td>1</td>\n",
       "    </tr>\n",
       "    <tr>\n",
       "      <th>1998</th>\n",
       "      <td>im feeling more comfortable with derby i feel ...</td>\n",
       "      <td>1</td>\n",
       "      <td>joy</td>\n",
       "      <td>1</td>\n",
       "    </tr>\n",
       "    <tr>\n",
       "      <th>1999</th>\n",
       "      <td>i feel all weird when i have to meet w people ...</td>\n",
       "      <td>4</td>\n",
       "      <td>fear</td>\n",
       "      <td>4</td>\n",
       "    </tr>\n",
       "  </tbody>\n",
       "</table>\n",
       "<p>1882 rows × 4 columns</p>\n",
       "</div>"
      ],
      "text/plain": [
       "                                                   text  label    preds  \\\n",
       "0     im feeling rather rotten so im not very ambiti...      0  sadness   \n",
       "1             im updating my blog because i feel shitty      0  sadness   \n",
       "2     i never make her separate from me because i do...      0     love   \n",
       "3     i left with my bouquet of red and yellow tulip...      1      joy   \n",
       "4       i was feeling a little vain when i did this one      0      joy   \n",
       "...                                                 ...    ...      ...   \n",
       "1995  i just keep feeling like someone is being unki...      3    anger   \n",
       "1996  im feeling a little cranky negative after this...      3  sadness   \n",
       "1997  i feel that i am useful to my people and that ...      1      joy   \n",
       "1998  im feeling more comfortable with derby i feel ...      1      joy   \n",
       "1999  i feel all weird when i have to meet w people ...      4     fear   \n",
       "\n",
       "      norm_preds  \n",
       "0              0  \n",
       "1              0  \n",
       "2              2  \n",
       "3              1  \n",
       "4              1  \n",
       "...          ...  \n",
       "1995           3  \n",
       "1996           0  \n",
       "1997           1  \n",
       "1998           1  \n",
       "1999           4  \n",
       "\n",
       "[1882 rows x 4 columns]"
      ]
     },
     "execution_count": 66,
     "metadata": {},
     "output_type": "execute_result"
    }
   ],
   "source": [
    "clean_test_data"
   ]
  },
  {
   "cell_type": "code",
   "execution_count": 70,
   "metadata": {},
   "outputs": [],
   "source": [
    "mistakes = clean_test_data[clean_test_data['label']!=clean_test_data['norm_preds']]"
   ]
  },
  {
   "cell_type": "code",
   "execution_count": 72,
   "metadata": {},
   "outputs": [
    {
     "data": {
      "text/plain": [
       "{'sadness': 0, 'joy': 1, 'love': 2, 'anger': 3, 'fear': 4, 'surprise': 5}"
      ]
     },
     "execution_count": 72,
     "metadata": {},
     "output_type": "execute_result"
    }
   ],
   "source": [
    "names"
   ]
  },
  {
   "cell_type": "code",
   "execution_count": 95,
   "metadata": {},
   "outputs": [
    {
     "name": "stdout",
     "output_type": "stream",
     "text": [
      "i spent wandering around still kinda dazed and not feeling particularly sociable but because id been in hiding for a couple for days and it was getting to be a little unhealthy i made myself go down to the cross and hang out with folks\n",
      "1\n",
      "0\n"
     ]
    }
   ],
   "source": [
    "i += 1\n",
    "print(mistakes.iloc[i, 0])\n",
    "print(mistakes.iloc[i, 1])\n",
    "print(mistakes.iloc[i, 3])\n",
    "\n",
    "\n",
    "\n"
   ]
  },
  {
   "cell_type": "code",
   "execution_count": 69,
   "metadata": {},
   "outputs": [
    {
     "data": {
      "image/png": "[encoded data removed]",
      "text/plain": [
       "<Figure size 640x480 with 2 Axes>"
      ]
     },
     "metadata": {},
     "output_type": "display_data"
    },
    {
     "data": {
      "image/png": "[encoded data removed]",
      "text/plain": [
       "<Figure size 640x480 with 2 Axes>"
      ]
     },
     "metadata": {},
     "output_type": "display_data"
    }
   ],
   "source": [
    "import matplotlib.pyplot as plt\n",
    "from sklearn.datasets import make_classification\n",
    "from sklearn.metrics import confusion_matrix, ConfusionMatrixDisplay\n",
    "from sklearn.model_selection import train_test_split\n",
    "from sklearn.svm import SVC\n",
    "\n",
    "cm = confusion_matrix(clean_test_data['label'], clean_test_data['norm_preds'] )\n",
    "disp = ConfusionMatrixDisplay(confusion_matrix=cm,display_labels=['sadness', 'joy', 'love', 'anger', 'fear', 'surprise']\n",
    "                              )\n",
    "disp.plot()\n",
    "\n",
    "plt.show()"
   ]
  },
  {
   "cell_type": "code",
   "execution_count": 19,
   "metadata": {},
   "outputs": [
    {
     "data": {
      "text/plain": [
       "'Joy.'"
      ]
     },
     "execution_count": 19,
     "metadata": {},
     "output_type": "execute_result"
    }
   ],
   "source": [
    "text = test_data['text'][4]\n",
    "response = openai.ChatCompletion.create(\n",
    "      model=\"gpt-3.5-turbo\",\n",
    "      messages=[\n",
    "            {\"role\": \"system\", \"content\": \"You are a helpful assistant that identifies one of sadness, joy, love, anger, fear, and surprise emotions in text. Chose the most suitable emotion frmo the list [sadness, joy, love, anger, fear, surprise]. Each text represent only one emotion. Give only one word representing text emotion in answer.\"},\n",
    "            {\"role\": \"user\", \"content\": f\"Identify the emotion in the following text: '{text}'\"},\n",
    "        ]\n",
    "    )\n",
    "response['choices'][0]['message']['content']"
   ]
  }
 ],
 "metadata": {
  "celltoolbar": "Отсутствует",
  "kernelspec": {
   "display_name": "Python 3",
   "language": "python",
   "name": "python3"
  },
  "language_info": {
   "codemirror_mode": {
    "name": "ipython",
    "version": 3
   },
   "file_extension": ".py",
   "mimetype": "text/x-python",
   "name": "python",
   "nbconvert_exporter": "python",
   "pygments_lexer": "ipython3",
   "version": "3.8.10"
  }
 },
 "nbformat": 4,
 "nbformat_minor": 2
}
